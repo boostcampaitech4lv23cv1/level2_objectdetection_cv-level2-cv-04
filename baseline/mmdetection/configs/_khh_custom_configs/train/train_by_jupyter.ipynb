{
 "cells": [
  {
   "cell_type": "code",
   "execution_count": 89,
   "metadata": {},
   "outputs": [
    {
     "name": "stdout",
     "output_type": "stream",
     "text": [
      "/opt/conda/envs/detection/lib/python3.7/site-packages/mmcv/__init__.py:21: UserWarning: On January 1, 2023, MMCV will release v2.0.0, in which it will remove components related to the training process and add a data transformation module. In addition, it will rename the package names mmcv to mmcv-lite and mmcv-full to mmcv. See https://github.com/open-mmlab/mmcv/blob/master/docs/en/compatibility.md for more details.\n",
      "  'On January 1, 2023, MMCV will release v2.0.0, in which it will remove '\n",
      "2022-11-22 18:43:17,516 - mmdet - INFO - Automatic scaling of learning rate (LR) has been disabled.\n",
      "2022-11-22 18:43:17,540 - mmdet - INFO - Start running, host: root@f63dd08cccbb, work_dir: /opt/level2_objectdetection_cv-level2-cv-04/baseline/mmdetection/work_dirs/config0_baseline__fold0\n",
      "2022-11-22 18:43:17,541 - mmdet - INFO - Hooks will be executed in the following order:\n",
      "before_run:\n",
      "(VERY_HIGH   ) StepLrUpdaterHook                  \n",
      "(NORMAL      ) CheckpointHook                     \n",
      "(LOW         ) EvalHook                           \n",
      "(VERY_LOW    ) TextLoggerHook                     \n",
      " -------------------- \n",
      "before_train_epoch:\n",
      "(VERY_HIGH   ) StepLrUpdaterHook                  \n",
      "(NORMAL      ) NumClassCheckHook                  \n",
      "(LOW         ) IterTimerHook                      \n",
      "(LOW         ) EvalHook                           \n",
      "(VERY_LOW    ) TextLoggerHook                     \n",
      " -------------------- \n",
      "before_train_iter:\n",
      "(VERY_HIGH   ) StepLrUpdaterHook                  \n",
      "(LOW         ) IterTimerHook                      \n",
      "(LOW         ) EvalHook                           \n",
      " -------------------- \n",
      "after_train_iter:\n",
      "(ABOVE_NORMAL) OptimizerHook                      \n",
      "(NORMAL      ) CheckpointHook                     \n",
      "(LOW         ) IterTimerHook                      \n",
      "(LOW         ) EvalHook                           \n",
      "(VERY_LOW    ) TextLoggerHook                     \n",
      " -------------------- \n",
      "after_train_epoch:\n",
      "(NORMAL      ) CheckpointHook                     \n",
      "(LOW         ) EvalHook                           \n",
      "(VERY_LOW    ) TextLoggerHook                     \n",
      " -------------------- \n",
      "before_val_epoch:\n",
      "(NORMAL      ) NumClassCheckHook                  \n",
      "(LOW         ) IterTimerHook                      \n",
      "(VERY_LOW    ) TextLoggerHook                     \n",
      " -------------------- \n",
      "before_val_iter:\n",
      "(LOW         ) IterTimerHook                      \n",
      " -------------------- \n",
      "after_val_iter:\n",
      "(LOW         ) IterTimerHook                      \n",
      " -------------------- \n",
      "after_val_epoch:\n",
      "(VERY_LOW    ) TextLoggerHook                     \n",
      " -------------------- \n",
      "after_run:\n",
      "(VERY_LOW    ) TextLoggerHook                     \n",
      " -------------------- \n",
      "2022-11-22 18:43:17,541 - mmdet - INFO - workflow: [('train', 1)], max: 10 epochs\n",
      "2022-11-22 18:43:17,541 - mmdet - INFO - Checkpoints will be saved to /opt/level2_objectdetection_cv-level2-cv-04/baseline/mmdetection/work_dirs/config0_baseline__fold0 by HardDiskBackend.\n",
      "2022-11-22 18:43:30,019 - mmdet - INFO - Epoch [1][50/3914]\tlr: 1.978e-03, eta: 2:42:30, time: 0.249, data_time: 0.050, memory: 2097, loss_rpn_cls: 0.4114, loss_rpn_bbox: 0.0667, loss_cls: 1.2856, acc: 83.5938, loss_bbox: 0.1089, loss: 1.8725, grad_norm: 5.5137\n",
      "2022-11-22 18:43:38,412 - mmdet - INFO - Epoch [1][100/3914]\tlr: 3.976e-03, eta: 2:15:46, time: 0.168, data_time: 0.004, memory: 2097, loss_rpn_cls: 0.1288, loss_rpn_bbox: 0.0409, loss_cls: 0.2863, acc: 95.7734, loss_bbox: 0.1617, loss: 0.6176, grad_norm: 1.6803\n",
      "2022-11-22 18:43:46,623 - mmdet - INFO - Epoch [1][150/3914]\tlr: 5.974e-03, eta: 2:05:58, time: 0.164, data_time: 0.004, memory: 2097, loss_rpn_cls: 0.1815, loss_rpn_bbox: 0.0706, loss_cls: 0.3323, acc: 94.6016, loss_bbox: 0.2061, loss: 0.7905, grad_norm: 2.1033\n",
      "2022-11-22 18:43:54,745 - mmdet - INFO - Epoch [1][200/3914]\tlr: 7.972e-03, eta: 2:00:42, time: 0.162, data_time: 0.004, memory: 2097, loss_rpn_cls: 0.1169, loss_rpn_bbox: 0.0562, loss_cls: 0.2973, acc: 95.2930, loss_bbox: 0.1794, loss: 0.6497, grad_norm: 1.6371\n",
      "2022-11-22 18:44:03,001 - mmdet - INFO - Epoch [1][250/3914]\tlr: 9.970e-03, eta: 1:57:50, time: 0.165, data_time: 0.004, memory: 2138, loss_rpn_cls: 0.1641, loss_rpn_bbox: 0.0914, loss_cls: 0.3063, acc: 95.1523, loss_bbox: 0.1763, loss: 0.7381, grad_norm: 1.7874\n",
      "2022-11-22 18:44:11,139 - mmdet - INFO - Epoch [1][300/3914]\tlr: 1.197e-02, eta: 1:55:38, time: 0.163, data_time: 0.004, memory: 2138, loss_rpn_cls: 0.1352, loss_rpn_bbox: 0.0534, loss_cls: 0.2634, acc: 96.0859, loss_bbox: 0.1534, loss: 0.6054, grad_norm: 1.4830\n",
      "2022-11-22 18:44:19,406 - mmdet - INFO - Epoch [1][350/3914]\tlr: 1.397e-02, eta: 1:54:15, time: 0.165, data_time: 0.004, memory: 2138, loss_rpn_cls: 0.2234, loss_rpn_bbox: 0.1118, loss_cls: 0.3981, acc: 94.3945, loss_bbox: 0.2057, loss: 0.9389, grad_norm: 2.3354\n",
      "2022-11-22 18:44:27,594 - mmdet - INFO - Epoch [1][400/3914]\tlr: 1.596e-02, eta: 1:53:04, time: 0.164, data_time: 0.004, memory: 2138, loss_rpn_cls: 0.1531, loss_rpn_bbox: 0.0573, loss_cls: 0.3281, acc: 94.6719, loss_bbox: 0.2008, loss: 0.7393, grad_norm: 1.4958\n",
      "2022-11-22 18:44:36,319 - mmdet - INFO - Epoch [1][450/3914]\tlr: 1.796e-02, eta: 1:52:52, time: 0.174, data_time: 0.004, memory: 2138, loss_rpn_cls: 0.1345, loss_rpn_bbox: 0.0625, loss_cls: 0.3651, acc: 94.1250, loss_bbox: 0.2339, loss: 0.7960, grad_norm: 1.4028\n",
      "2022-11-22 18:44:45,382 - mmdet - INFO - Epoch [1][500/3914]\tlr: 1.996e-02, eta: 1:53:07, time: 0.181, data_time: 0.006, memory: 2165, loss_rpn_cls: 0.1604, loss_rpn_bbox: 0.0731, loss_cls: 0.4445, acc: 94.4336, loss_bbox: 0.2059, loss: 0.8839, grad_norm: 1.9921\n",
      "2022-11-22 18:44:53,618 - mmdet - INFO - Epoch [1][550/3914]\tlr: 2.000e-02, eta: 1:52:20, time: 0.165, data_time: 0.004, memory: 2165, loss_rpn_cls: 0.1513, loss_rpn_bbox: 0.0662, loss_cls: 0.3319, acc: 95.1914, loss_bbox: 0.1819, loss: 0.7313, grad_norm: 1.4495\n",
      "2022-11-22 18:45:01,854 - mmdet - INFO - Epoch [1][600/3914]\tlr: 2.000e-02, eta: 1:51:39, time: 0.165, data_time: 0.004, memory: 2165, loss_rpn_cls: 0.1944, loss_rpn_bbox: 0.0712, loss_cls: 0.4113, acc: 93.7969, loss_bbox: 0.2398, loss: 0.9167, grad_norm: 1.5985\n",
      "2022-11-22 18:45:10,430 - mmdet - INFO - Epoch [1][650/3914]\tlr: 2.000e-02, eta: 1:51:24, time: 0.172, data_time: 0.005, memory: 2165, loss_rpn_cls: 0.1844, loss_rpn_bbox: 0.0766, loss_cls: 0.3626, acc: 93.4023, loss_bbox: 0.2490, loss: 0.8726, grad_norm: 1.0181\n",
      "2022-11-22 18:45:19,682 - mmdet - INFO - Epoch [1][700/3914]\tlr: 2.000e-02, eta: 1:51:46, time: 0.185, data_time: 0.006, memory: 2165, loss_rpn_cls: 0.2251, loss_rpn_bbox: 0.1317, loss_cls: 0.3459, acc: 94.1406, loss_bbox: 0.2235, loss: 0.9261, grad_norm: 1.4048\n",
      "2022-11-22 18:45:28,355 - mmdet - INFO - Epoch [1][750/3914]\tlr: 2.000e-02, eta: 1:51:35, time: 0.173, data_time: 0.004, memory: 2165, loss_rpn_cls: 0.1791, loss_rpn_bbox: 0.1042, loss_cls: 0.3095, acc: 94.5352, loss_bbox: 0.2056, loss: 0.7984, grad_norm: 1.1362\n",
      "2022-11-22 18:45:36,748 - mmdet - INFO - Epoch [1][800/3914]\tlr: 2.000e-02, eta: 1:51:11, time: 0.168, data_time: 0.004, memory: 2201, loss_rpn_cls: 0.1748, loss_rpn_bbox: 0.0857, loss_cls: 0.3164, acc: 94.8008, loss_bbox: 0.1921, loss: 0.7691, grad_norm: 0.9006\n",
      "2022-11-22 18:45:45,096 - mmdet - INFO - Epoch [1][850/3914]\tlr: 2.000e-02, eta: 1:50:46, time: 0.167, data_time: 0.004, memory: 2201, loss_rpn_cls: 0.1393, loss_rpn_bbox: 0.0557, loss_cls: 0.3439, acc: 93.9141, loss_bbox: 0.2306, loss: 0.7695, grad_norm: 0.6859\n",
      "2022-11-22 18:45:53,596 - mmdet - INFO - Epoch [1][900/3914]\tlr: 2.000e-02, eta: 1:50:30, time: 0.170, data_time: 0.005, memory: 2201, loss_rpn_cls: 0.1528, loss_rpn_bbox: 0.0508, loss_cls: 0.2682, acc: 95.2031, loss_bbox: 0.1739, loss: 0.6457, grad_norm: 0.6046\n"
     ]
    }
   ],
   "source": [
    "!python train_script.py --fold_num 0 --config_file_name config0_baseline.py --epochs 10 > fold0.txt"
   ]
  },
  {
   "cell_type": "code",
   "execution_count": null,
   "metadata": {},
   "outputs": [],
   "source": [
    "!python train_script.py --fold_num 1 --config_file_name config0_baseline.py --epochs 10 > fold1.txt"
   ]
  },
  {
   "cell_type": "code",
   "execution_count": null,
   "metadata": {},
   "outputs": [],
   "source": [
    "!python train_script.py --fold_num 2 --config_file_name config0_baseline.py --epochs 10 > fold2.txt"
   ]
  },
  {
   "cell_type": "code",
   "execution_count": null,
   "metadata": {},
   "outputs": [],
   "source": [
    "!python train_script.py --fold_num 3 --config_file_name config0_baseline.py --epochs 10 > fold3.txt"
   ]
  },
  {
   "cell_type": "code",
   "execution_count": null,
   "metadata": {},
   "outputs": [],
   "source": [
    "!python train_script.py --fold_num 4 --config_file_name config0_baseline.py --epochs 10 > fold4.txt"
   ]
  }
 ],
 "metadata": {
  "kernelspec": {
   "display_name": "Python 3.7.15 ('detection')",
   "language": "python",
   "name": "python3"
  },
  "language_info": {
   "codemirror_mode": {
    "name": "ipython",
    "version": 3
   },
   "file_extension": ".py",
   "mimetype": "text/x-python",
   "name": "python",
   "nbconvert_exporter": "python",
   "pygments_lexer": "ipython3",
   "version": "3.7.15"
  },
  "orig_nbformat": 4,
  "vscode": {
   "interpreter": {
    "hash": "b94c6de4bce9a87a354a5fa9998691adc0532adddb9d4140f5ba941d00b01fae"
   }
  }
 },
 "nbformat": 4,
 "nbformat_minor": 2
}

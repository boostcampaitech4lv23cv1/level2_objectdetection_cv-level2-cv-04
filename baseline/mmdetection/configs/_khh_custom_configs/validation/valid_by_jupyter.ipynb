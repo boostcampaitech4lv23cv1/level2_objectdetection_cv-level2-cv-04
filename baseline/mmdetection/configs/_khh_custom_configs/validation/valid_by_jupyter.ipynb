{
 "cells": [
  {
   "cell_type": "code",
   "execution_count": 17,
   "metadata": {},
   "outputs": [
    {
     "name": "stdout",
     "output_type": "stream",
     "text": [
      "/opt/conda/envs/detection/lib/python3.7/site-packages/mmcv/__init__.py:21: UserWarning: On January 1, 2023, MMCV will release v2.0.0, in which it will remove components related to the training process and add a data transformation module. In addition, it will rename the package names mmcv to mmcv-lite and mmcv-full to mmcv. See https://github.com/open-mmlab/mmcv/blob/master/docs/en/compatibility.md for more details.\n",
      "  'On January 1, 2023, MMCV will release v2.0.0, in which it will remove '\n",
      "loading annotations into memory...\n",
      "Done (t=0.02s)\n",
      "creating index...\n",
      "index created!\n",
      "load checkpoint from local path: /opt/level2_objectdetection_cv-level2-cv-04/baseline/mmdetection/work_dirs/config4_baseline_dy__fold0/latest.pth\n",
      "[>>>>>>>>>>>>>>>>>>>>>>>>>>>] 4883/4883, 6.8 task/s, elapsed: 722s, ETA:     0sloading annotations into memory...\n",
      "Done (t=0.02s)\n",
      "creating index...\n",
      "index created!\n",
      "                                    PredictionString        image_id\n",
      "0  0 0.16505316 330.6564 172.31476 654.683 441.12...  train/0000.jpg\n",
      "1  0 0.1230902 475.47308 443.13617 788.6768 692.7...  train/0001.jpg\n",
      "2  0 0.08619628 525.46545 157.5305 924.18933 613....  train/0002.jpg\n",
      "3  0 0.3575136 455.45056 364.3879 697.7645 575.75...  train/0003.jpg\n",
      "4  0 0.17924616 231.21512 0.0 255.05807 90.2459 0...  train/0004.jpg\n"
     ]
    }
   ],
   "source": [
    "# validation dataset inference\n",
    "!python valid_inference_script.py \\\n",
    "    --config_file_name config4_baseline_dy.py \\\n",
    "        --work_dir_name config4_baseline_dy__fold0 \\\n",
    "            --annot_name val_fold0.json"
   ]
  },
  {
   "cell_type": "code",
   "execution_count": 29,
   "metadata": {},
   "outputs": [
    {
     "name": "stdout",
     "output_type": "stream",
     "text": [
      "Couldn't import fast version of function compute_overlap, will use slow one. Check cython intallation\n",
      "loading annotations into memory...\n",
      "Done (t=0.08s)\n",
      "creating index...\n",
      "index created!\n",
      "loading annotations into memory...\n",
      "Done (t=0.10s)\n",
      "creating index...\n",
      "index created!\n",
      "loading annotations into memory...\n",
      "Done (t=0.02s)\n",
      "creating index...\n",
      "index created!\n",
      "len(full_coco.getImgIds()): 4883\n",
      "len(train_coco.getImgIds()): 4883\n",
      "len(valid_coco.getImgIds()): 4883\n",
      "len(pred_df['image_id'].unique()): 4883\n"
     ]
    }
   ],
   "source": [
    "# calculate validation set mAP50\n",
    "!python valid_mAP50_script.py"
   ]
  },
  {
   "cell_type": "code",
   "execution_count": null,
   "metadata": {},
   "outputs": [],
   "source": []
  }
 ],
 "metadata": {
  "kernelspec": {
   "display_name": "Python 3.7.15 ('detection')",
   "language": "python",
   "name": "python3"
  },
  "language_info": {
   "codemirror_mode": {
    "name": "ipython",
    "version": 3
   },
   "file_extension": ".py",
   "mimetype": "text/x-python",
   "name": "python",
   "nbconvert_exporter": "python",
   "pygments_lexer": "ipython3",
   "version": "3.7.15"
  },
  "orig_nbformat": 4,
  "vscode": {
   "interpreter": {
    "hash": "b94c6de4bce9a87a354a5fa9998691adc0532adddb9d4140f5ba941d00b01fae"
   }
  }
 },
 "nbformat": 4,
 "nbformat_minor": 2
}

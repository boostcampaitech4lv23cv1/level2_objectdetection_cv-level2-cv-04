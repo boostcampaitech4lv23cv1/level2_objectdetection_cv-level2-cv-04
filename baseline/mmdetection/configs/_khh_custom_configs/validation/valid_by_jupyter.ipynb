{
 "cells": [
  {
   "cell_type": "code",
   "execution_count": 31,
   "metadata": {},
   "outputs": [
    {
     "name": "stdout",
     "output_type": "stream",
     "text": [
      "Wed Nov 23 05:10:53 2022       \n",
      "+-----------------------------------------------------------------------------+\n",
      "| NVIDIA-SMI 450.80.02    Driver Version: 450.80.02    CUDA Version: 11.0     |\n",
      "|-------------------------------+----------------------+----------------------+\n",
      "| GPU  Name        Persistence-M| Bus-Id        Disp.A | Volatile Uncorr. ECC |\n",
      "| Fan  Temp  Perf  Pwr:Usage/Cap|         Memory-Usage | GPU-Util  Compute M. |\n",
      "|                               |                      |               MIG M. |\n",
      "|===============================+======================+======================|\n",
      "|   0  Tesla V100-PCIE...  Off  | 00000000:00:05.0 Off |                  Off |\n",
      "| N/A   60C    P0    77W / 250W |  10594MiB / 32510MiB |     70%      Default |\n",
      "|                               |                      |                  N/A |\n",
      "+-------------------------------+----------------------+----------------------+\n",
      "                                                                               \n",
      "+-----------------------------------------------------------------------------+\n",
      "| Processes:                                                                  |\n",
      "|  GPU   GI   CI        PID   Type   Process name                  GPU Memory |\n",
      "|        ID   ID                                                   Usage      |\n",
      "|=============================================================================|\n",
      "+-----------------------------------------------------------------------------+\n"
     ]
    }
   ],
   "source": [
    "!nvidia-smi"
   ]
  },
  {
   "cell_type": "code",
   "execution_count": 27,
   "metadata": {},
   "outputs": [
    {
     "name": "stdout",
     "output_type": "stream",
     "text": [
      "/opt/conda/envs/detection/lib/python3.7/site-packages/mmcv/__init__.py:21: UserWarning: On January 1, 2023, MMCV will release v2.0.0, in which it will remove components related to the training process and add a data transformation module. In addition, it will rename the package names mmcv to mmcv-lite and mmcv-full to mmcv. See https://github.com/open-mmlab/mmcv/blob/master/docs/en/compatibility.md for more details.\n",
      "  'On January 1, 2023, MMCV will release v2.0.0, in which it will remove '\n",
      "Couldn't import fast version of function compute_overlap, will use slow one. Check cython intallation\n",
      "loading annotations into memory...\n",
      "Done (t=0.02s)\n",
      "creating index...\n",
      "index created!\n",
      "\n",
      "CocoDataset Test dataset with number of images 969, and instance counts: \n",
      "+-------------------+-------+---------------+-------+-----------------+-------+-------------+-------+--------------+-------+\n",
      "| category          | count | category      | count | category        | count | category    | count | category     | count |\n",
      "+-------------------+-------+---------------+-------+-----------------+-------+-------------+-------+--------------+-------+\n",
      "| 0 [General trash] | 804   | 1 [Paper]     | 1237  | 2 [Paper pack]  | 191   | 3 [Metal]   | 167   | 4 [Glass]    | 147   |\n",
      "| 5 [Plastic]       | 593   | 6 [Styrofoam] | 237   | 7 [Plastic bag] | 1027  | 8 [Battery] | 16    | 9 [Clothing] | 91    |\n",
      "+-------------------+-------+---------------+-------+-----------------+-------+-------------+-------+--------------+-------+\n",
      "load checkpoint from local path: /opt/level2_objectdetection_cv-level2-cv-04/baseline/mmdetection/work_dirs/config0_baseline__fold0/latest.pth\n",
      "[>>>>>>>>>>>>>>>>>>>>>>>>>>>>>] 969/969, 16.3 task/s, elapsed: 60s, ETA:     0sloading annotations into memory...\n",
      "Done (t=0.02s)\n",
      "creating index...\n",
      "index created!\n",
      "len(full_coco.getImgIds()): 969\n",
      "len(pred_df['image_id'].unique()): 969\n",
      "train/2396.jpg empty box\n",
      "train/2479.jpg empty box\n",
      "train/4600.jpg empty box\n",
      "train/3808.jpg empty box\n",
      "Number of files in annotations: 969\n",
      "Number of files in predictions: 965\n",
      "Unique classes: 10\n",
      "Detections length: 965\n",
      "Annotations length: 969\n",
      "0                              | 0.075891 |     805\n",
      "1                              | 0.102093 |    1237\n",
      "2                              | 0.050416 |     191\n",
      "3                              | 0.054786 |     167\n",
      "4                              | 0.018627 |     147\n",
      "5                              | 0.036210 |     593\n",
      "6                              | 0.042914 |     237\n",
      "7                              | 0.185414 |    1027\n",
      "8                              | 0.000000 |      16\n",
      "9                              | 0.051630 |      91\n",
      "mAP: 0.061798\n",
      "0.06179792828943317\n"
     ]
    }
   ],
   "source": [
    "# validation dataset inference\n",
    "!python valid_inference_script.py \\\n",
    "    --config_file_name config0_baseline.py \\\n",
    "        --work_dir_name config0_baseline__fold0 \\\n",
    "            --annot_file_name val_0.json\n"
   ]
  },
  {
   "cell_type": "code",
   "execution_count": 30,
   "metadata": {},
   "outputs": [
    {
     "name": "stdout",
     "output_type": "stream",
     "text": [
      "/opt/conda/envs/detection/lib/python3.7/site-packages/mmcv/__init__.py:21: UserWarning: On January 1, 2023, MMCV will release v2.0.0, in which it will remove components related to the training process and add a data transformation module. In addition, it will rename the package names mmcv to mmcv-lite and mmcv-full to mmcv. See https://github.com/open-mmlab/mmcv/blob/master/docs/en/compatibility.md for more details.\n",
      "  'On January 1, 2023, MMCV will release v2.0.0, in which it will remove '\n",
      "Couldn't import fast version of function compute_overlap, will use slow one. Check cython intallation\n",
      "loading annotations into memory...\n",
      "Done (t=0.02s)\n",
      "creating index...\n",
      "index created!\n",
      "\n",
      "CocoDataset Test dataset with number of images 977, and instance counts: \n",
      "+-------------------+-------+---------------+-------+-----------------+-------+-------------+-------+--------------+-------+\n",
      "| category          | count | category      | count | category        | count | category    | count | category     | count |\n",
      "+-------------------+-------+---------------+-------+-----------------+-------+-------------+-------+--------------+-------+\n",
      "| 0 [General trash] | 868   | 1 [Paper]     | 1428  | 2 [Paper pack]  | 173   | 3 [Metal]   | 216   | 4 [Glass]    | 209   |\n",
      "| 5 [Plastic]       | 634   | 6 [Styrofoam] | 290   | 7 [Plastic bag] | 1144  | 8 [Battery] | 37    | 9 [Clothing] | 70    |\n",
      "+-------------------+-------+---------------+-------+-----------------+-------+-------------+-------+--------------+-------+\n",
      "load checkpoint from local path: /opt/level2_objectdetection_cv-level2-cv-04/baseline/mmdetection/work_dirs/config0_baseline__fold1/latest.pth\n",
      "[>>>>>>>>>>>>>>>>>>>>>>>>>>>>>] 977/977, 14.9 task/s, elapsed: 66s, ETA:     0sloading annotations into memory...\n",
      "Done (t=0.02s)\n",
      "creating index...\n",
      "index created!\n",
      "Number of files in annotations: 977\n",
      "Number of files in predictions: 977\n",
      "Unique classes: 10\n",
      "Detections length: 977\n",
      "Annotations length: 977\n",
      "0                              | 0.059195 |     868\n",
      "1                              | 0.115519 |    1428\n",
      "2                              | 0.067443 |     173\n",
      "3                              | 0.080349 |     216\n",
      "4                              | 0.013156 |     209\n",
      "5                              | 0.022998 |     634\n",
      "6                              | 0.080957 |     290\n",
      "7                              | 0.169244 |    1144\n",
      "8                              | 0.000000 |      37\n",
      "9                              | 0.049514 |      70\n",
      "mAP: 0.065837\n",
      "0.06583741309757873\n"
     ]
    }
   ],
   "source": [
    "# validation dataset inference\n",
    "!python valid_inference_script.py \\\n",
    "    --config_file_name config0_baseline.py \\\n",
    "        --work_dir_name config0_baseline__fold1 \\\n",
    "            --annot_file_name val_1.json"
   ]
  },
  {
   "cell_type": "code",
   "execution_count": null,
   "metadata": {},
   "outputs": [],
   "source": []
  }
 ],
 "metadata": {
  "kernelspec": {
   "display_name": "detection",
   "language": "python",
   "name": "detection"
  },
  "language_info": {
   "codemirror_mode": {
    "name": "ipython",
    "version": 3
   },
   "file_extension": ".py",
   "mimetype": "text/x-python",
   "name": "python",
   "nbconvert_exporter": "python",
   "pygments_lexer": "ipython3",
   "version": "3.7.15"
  },
  "orig_nbformat": 4,
  "vscode": {
   "interpreter": {
    "hash": "b94c6de4bce9a87a354a5fa9998691adc0532adddb9d4140f5ba941d00b01fae"
   }
  }
 },
 "nbformat": 4,
 "nbformat_minor": 2
}

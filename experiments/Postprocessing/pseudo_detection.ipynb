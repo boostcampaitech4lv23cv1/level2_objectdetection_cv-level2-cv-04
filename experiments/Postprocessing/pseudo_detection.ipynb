{
 "cells": [
  {
   "cell_type": "code",
   "execution_count": 2,
   "metadata": {},
   "outputs": [],
   "source": [
    "import pandas as pd\n",
    "import numpy as np\n",
    "from tqdm import tqdm"
   ]
  },
  {
   "cell_type": "code",
   "execution_count": 43,
   "metadata": {},
   "outputs": [
    {
     "data": {
      "text/html": [
       "<div>\n",
       "<style scoped>\n",
       "    .dataframe tbody tr th:only-of-type {\n",
       "        vertical-align: middle;\n",
       "    }\n",
       "\n",
       "    .dataframe tbody tr th {\n",
       "        vertical-align: top;\n",
       "    }\n",
       "\n",
       "    .dataframe thead th {\n",
       "        text-align: right;\n",
       "    }\n",
       "</style>\n",
       "<table border=\"1\" class=\"dataframe\">\n",
       "  <thead>\n",
       "    <tr style=\"text-align: right;\">\n",
       "      <th></th>\n",
       "      <th>PredictionString</th>\n",
       "      <th>image_id</th>\n",
       "    </tr>\n",
       "  </thead>\n",
       "  <tbody>\n",
       "    <tr>\n",
       "      <th>0</th>\n",
       "      <td>7 0.9993438124656677 607.0755615234375 523.212...</td>\n",
       "      <td>test/0000.jpg</td>\n",
       "    </tr>\n",
       "    <tr>\n",
       "      <th>1</th>\n",
       "      <td>5 0.9797833561897278 347.2628173828125 247.238...</td>\n",
       "      <td>test/0001.jpg</td>\n",
       "    </tr>\n",
       "    <tr>\n",
       "      <th>2</th>\n",
       "      <td>1 0.9812363386154175 289.4942932128906 305.360...</td>\n",
       "      <td>test/0002.jpg</td>\n",
       "    </tr>\n",
       "    <tr>\n",
       "      <th>3</th>\n",
       "      <td>9 0.7993578314781189 166.6297607421875 265.869...</td>\n",
       "      <td>test/0003.jpg</td>\n",
       "    </tr>\n",
       "    <tr>\n",
       "      <th>4</th>\n",
       "      <td>1 0.767069399356842 196.54776000976562 259.472...</td>\n",
       "      <td>test/0004.jpg</td>\n",
       "    </tr>\n",
       "  </tbody>\n",
       "</table>\n",
       "</div>"
      ],
      "text/plain": [
       "                                    PredictionString       image_id\n",
       "0  7 0.9993438124656677 607.0755615234375 523.212...  test/0000.jpg\n",
       "1  5 0.9797833561897278 347.2628173828125 247.238...  test/0001.jpg\n",
       "2  1 0.9812363386154175 289.4942932128906 305.360...  test/0002.jpg\n",
       "3  9 0.7993578314781189 166.6297607421875 265.869...  test/0003.jpg\n",
       "4  1 0.767069399356842 196.54776000976562 259.472...  test/0004.jpg"
      ]
     },
     "execution_count": 43,
     "metadata": {},
     "output_type": "execute_result"
    }
   ],
   "source": [
    "LABEL_NAME = [\"General trash\", \"Paper\", \"Paper pack\", \"Metal\", \n",
    "              \"Glass\", \"Plastic\", \"Styrofoam\", \"Plastic bag\", \"Battery\", \"Clothing\"]\n",
    "\n",
    "target_csv = '/opt/ml/workspace/ensembled_taekwonV.csv'\n",
    "output_csv_path = './DUMMY_submission.csv'\n",
    "df = pd.read_csv(target_csv)\n",
    "df.head()"
   ]
  },
  {
   "cell_type": "code",
   "execution_count": 44,
   "metadata": {},
   "outputs": [],
   "source": [
    "#Key - Value 쌍은 몇번 id에서 - 몇번 id dummy를 만들 것인가를 의미\n",
    "dummy_policies = {1 : [0, 2], 5 : [3]}\n",
    "\n",
    "conf_policies = ((0.3, 0.99), 0.2)\n",
    "\n",
    "dummy_conf = 0.15\n",
    "\n",
    "min_conf = conf_policies[0][0]\n",
    "max_conf = conf_policies[0][1]"
   ]
  },
  {
   "cell_type": "code",
   "execution_count": 45,
   "metadata": {},
   "outputs": [],
   "source": [
    "predict_strings = df['PredictionString'].tolist()\n",
    "result_strings = []\n",
    "\n",
    "for idx, predict_string in enumerate(predict_strings[:]):\n",
    "    predict_list = str(predict_string).split()\n",
    "    new_preds = []\n",
    "    if len(predict_list)==0 or len(predict_list)==1:\n",
    "        result_strings.append(' ')\n",
    "        print('!!!')\n",
    "        continue\n",
    "    predict_list = np.reshape(predict_list, (-1, 6)).tolist()\n",
    "    # print(predict_list)\n",
    "    for pred in predict_list:\n",
    "        if int(pred[0]) in dummy_policies.keys():\n",
    "            if min_conf <= float(pred[1]) <= max_conf:\n",
    "                for dummy_id in dummy_policies[int(pred[0])]:\n",
    "                    new_preds.append([str(dummy_id), str(dummy_conf), str(pred[2]), str(pred[3]), str(pred[4]), str(pred[5])])\n",
    "                    # new_preds.append([str(dummy_id)+' '+str(dummy_conf)+' '+pred[2]+' '+pred[3]+' '+pred[4]+' '+pred[5]+' '])\n",
    "    # print(new_preds)\n",
    "    predict_list.extend(new_preds)\n",
    "    predict_list.sort(key = lambda x : (int(x[0]), -float(x[1])))\n",
    "    # print(predict_list)\n",
    "    result_string = ''\n",
    "    for p in predict_list:\n",
    "        result_string += p[0]+' '+p[1]+' '+p[2]+' '+p[3]+' '+p[4]+' '+p[5]+' '\n",
    "    result_strings.append(result_string)\n",
    "    \n",
    "df['PredictionString'] = result_strings\n",
    "\n"
   ]
  },
  {
   "cell_type": "code",
   "execution_count": 46,
   "metadata": {},
   "outputs": [],
   "source": [
    "df.to_csv(output_csv_path, index=None)"
   ]
  }
 ],
 "metadata": {
  "kernelspec": {
   "display_name": "Python 3.7.15 ('detection')",
   "language": "python",
   "name": "python3"
  },
  "language_info": {
   "codemirror_mode": {
    "name": "ipython",
    "version": 3
   },
   "file_extension": ".py",
   "mimetype": "text/x-python",
   "name": "python",
   "nbconvert_exporter": "python",
   "pygments_lexer": "ipython3",
   "version": "3.7.15"
  },
  "orig_nbformat": 4,
  "vscode": {
   "interpreter": {
    "hash": "b94c6de4bce9a87a354a5fa9998691adc0532adddb9d4140f5ba941d00b01fae"
   }
  }
 },
 "nbformat": 4,
 "nbformat_minor": 2
}

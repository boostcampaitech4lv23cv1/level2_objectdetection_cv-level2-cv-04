{
 "cells": [
  {
   "cell_type": "code",
   "execution_count": 1,
   "metadata": {},
   "outputs": [],
   "source": [
    "import cv2\n",
    "import torch\n",
    "import json\n",
    "import pandas as pd\n",
    "from PIL import Image\n",
    "from tqdm import tqdm\n",
    "import os\n"
   ]
  },
  {
   "cell_type": "code",
   "execution_count": null,
   "metadata": {},
   "outputs": [],
   "source": [
    "\n",
    "def inference(experience_name, iou=0.5):\n",
    "    dataset_root = '../dataset/test/'\n",
    "\n",
    "    model = torch.hub.load('./', 'custom', path_or_model= f'./runs/train/{experience_name}/weights/best.pt', source='local') \n",
    "    model.conf = 0.001  # confidence threshold (0-1)\n",
    "    model.iou = iou  # NMS IoU threshold (0-1)\n",
    "\n",
    "    prediction_string = ['']  * 4871 \n",
    "    image_id = [f'test/{i:04}.jpg' for i in range(4871)]\n",
    "    for i in tqdm(range(4871)):\n",
    "        img = Image.open(os.path.join(dataset_root, f'{i:04}.jpg'))\n",
    "\n",
    "        results = model(img, size=1024, augment=True)\n",
    "        for bbox in results.pandas().xyxy[0].values:\n",
    "            xmin, ymin, xmax, ymax, confidence, clss, name = bbox\n",
    "            prediction_string[i] += f'{clss} {confidence} {xmin} {ymin} {xmax} {ymax} '\n",
    "    raw_data ={\n",
    "        'PredictionString' : prediction_string,\n",
    "        'image_id' : image_id\n",
    "    }\n",
    "    dataframe = pd.DataFrame(raw_data)\n",
    "\n",
    "    # output/yolov7/exp_name에 저장됩니다.\n",
    "    dataframe.to_csv(f'./runs/train/{experience_name}/submission_{iou}.csv', sep=',', na_rep='NaN', index=None)"
   ]
  },
  {
   "cell_type": "code",
   "execution_count": null,
   "metadata": {},
   "outputs": [],
   "source": [
    "inference('yolov7')"
   ]
  }
 ],
 "metadata": {
  "kernelspec": {
   "display_name": "Python 3.7.15 ('detection')",
   "language": "python",
   "name": "python3"
  },
  "language_info": {
   "codemirror_mode": {
    "name": "ipython",
    "version": 3
   },
   "file_extension": ".py",
   "mimetype": "text/x-python",
   "name": "python",
   "nbconvert_exporter": "python",
   "pygments_lexer": "ipython3",
   "version": "3.7.15"
  },
  "orig_nbformat": 4,
  "vscode": {
   "interpreter": {
    "hash": "b94c6de4bce9a87a354a5fa9998691adc0532adddb9d4140f5ba941d00b01fae"
   }
  }
 },
 "nbformat": 4,
 "nbformat_minor": 2
}

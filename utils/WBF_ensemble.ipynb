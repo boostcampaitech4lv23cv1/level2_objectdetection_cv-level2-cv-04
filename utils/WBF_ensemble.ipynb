{
 "cells": [
  {
   "cell_type": "code",
   "execution_count": 1,
   "metadata": {},
   "outputs": [],
   "source": [
    "from ensemble_boxes import *\n",
    "import pandas as pd\n",
    "import numpy as np\n",
    "from tqdm import tqdm"
   ]
  },
  {
   "cell_type": "code",
   "execution_count": 57,
   "metadata": {},
   "outputs": [],
   "source": [
    "#submission files 에 ensemble할 submission.csv 파일들 경로 입력\n",
    "submission_files = ['./ensem_subs/cascade_rcnn_swinl_fpn_aug12_1024_epoch_14.csv',\n",
    "                    './ensem_subs/faster_rcnn_swinL_PAFPN_aug12_1024.csv',\n",
    "                    './ensem_subs/faster_rcnn_swinl_FPN_aug12_1024.csv']\n",
    "\n",
    "submissions = [pd.read_csv(s) for s in submission_files]"
   ]
  },
  {
   "cell_type": "markdown",
   "metadata": {},
   "source": [
    "WBF"
   ]
  },
  {
   "cell_type": "code",
   "execution_count": 37,
   "metadata": {},
   "outputs": [],
   "source": [
    "WBF_IOU_THR = 0.6\n",
    "# WBF_SKIP_BOX_THR = 0.0\n",
    "WBF_CONF_TYPE = 'avg'\n",
    "\n",
    "output_csv_path = './ensembled_submission.csv'"
   ]
  },
  {
   "cell_type": "code",
   "execution_count": 90,
   "metadata": {},
   "outputs": [],
   "source": [
    "image_ids = submissions[0]['image_id'].tolist()\n",
    "prediction_strings = []\n",
    "file_names = []\n",
    "\n",
    "# 각 image id 별로 submission file에서 box좌표 추출\n",
    "for i, image_id in tqdm(enumerate(image_ids)):\n",
    "    prediction_string = ''\n",
    "    boxes_list = []\n",
    "    scores_list = []\n",
    "    labels_list = []\n",
    "    \n",
    "#     각 submission file 별로 prediction box좌표 불러오기\n",
    "    for df in submissions:\n",
    "        predict_string = df[df['image_id'] == image_id]['PredictionString'].tolist()[0]\n",
    "        predict_list = str(predict_string).split()\n",
    "        \n",
    "        if len(predict_list)==0 or len(predict_list)==1:\n",
    "            continue\n",
    "            \n",
    "        predict_list = np.reshape(predict_list, (-1, 6))\n",
    "        box_list = []\n",
    "        \n",
    "        for box in predict_list[:, 2:6].tolist():\n",
    "            box[0] = float(box[0]) / 1024.0\n",
    "            box[1] = float(box[1]) / 1024.0\n",
    "            box[2] = float(box[2]) / 1024.0\n",
    "            box[3] = float(box[3]) / 1024.0\n",
    "            box_list.append(box)\n",
    "            \n",
    "        boxes_list.append(box_list)\n",
    "        scores_list.append(list(map(float, predict_list[:, 1].tolist())))\n",
    "        labels_list.append(list(map(int, predict_list[:, 0].tolist())))\n",
    "\n",
    "    # 예측 box가 있다면 이를 ensemble 수행\n",
    "    if len(boxes_list):\n",
    "        # Perform Ensemble\n",
    "        boxes, scores, labels = weighted_boxes_fusion(boxes_list, scores_list, labels_list, iou_thr=WBF_IOU_THR, conf_type=WBF_CONF_TYPE)\n",
    "        \n",
    "        for box, score, label in zip(boxes, scores, labels):\n",
    "            prediction_string += str(int(label)) + ' ' + str(score) + ' ' + str(box[0] * 1024) + ' ' + str(box[1] * 1024) + ' ' + str(box[2] * 1024) + ' ' + str(box[3] * 1024) + ' '\n",
    "    \n",
    "    prediction_strings.append(prediction_string)\n",
    "    \n",
    "    file_names.append(image_id)"
   ]
  },
  {
   "cell_type": "code",
   "execution_count": 92,
   "metadata": {},
   "outputs": [
    {
     "data": {
      "text/html": [
       "<div>\n",
       "<style scoped>\n",
       "    .dataframe tbody tr th:only-of-type {\n",
       "        vertical-align: middle;\n",
       "    }\n",
       "\n",
       "    .dataframe tbody tr th {\n",
       "        vertical-align: top;\n",
       "    }\n",
       "\n",
       "    .dataframe thead th {\n",
       "        text-align: right;\n",
       "    }\n",
       "</style>\n",
       "<table border=\"1\" class=\"dataframe\">\n",
       "  <thead>\n",
       "    <tr style=\"text-align: right;\">\n",
       "      <th></th>\n",
       "      <th>PredictionString</th>\n",
       "      <th>image_id</th>\n",
       "    </tr>\n",
       "  </thead>\n",
       "  <tbody>\n",
       "    <tr>\n",
       "      <th>0</th>\n",
       "      <td>7 0.9993438124656677 607.0755615234375 523.212...</td>\n",
       "      <td>test/0000.jpg</td>\n",
       "    </tr>\n",
       "    <tr>\n",
       "      <th>1</th>\n",
       "      <td>5 0.9797833561897278 347.2628173828125 247.238...</td>\n",
       "      <td>test/0001.jpg</td>\n",
       "    </tr>\n",
       "    <tr>\n",
       "      <th>2</th>\n",
       "      <td>1 0.9812363386154175 289.4942932128906 305.360...</td>\n",
       "      <td>test/0002.jpg</td>\n",
       "    </tr>\n",
       "    <tr>\n",
       "      <th>3</th>\n",
       "      <td>9 0.7993578314781189 166.6297607421875 265.869...</td>\n",
       "      <td>test/0003.jpg</td>\n",
       "    </tr>\n",
       "    <tr>\n",
       "      <th>4</th>\n",
       "      <td>1 0.767069399356842 196.54776000976562 259.472...</td>\n",
       "      <td>test/0004.jpg</td>\n",
       "    </tr>\n",
       "  </tbody>\n",
       "</table>\n",
       "</div>"
      ],
      "text/plain": [
       "                                    PredictionString       image_id\n",
       "0  7 0.9993438124656677 607.0755615234375 523.212...  test/0000.jpg\n",
       "1  5 0.9797833561897278 347.2628173828125 247.238...  test/0001.jpg\n",
       "2  1 0.9812363386154175 289.4942932128906 305.360...  test/0002.jpg\n",
       "3  9 0.7993578314781189 166.6297607421875 265.869...  test/0003.jpg\n",
       "4  1 0.767069399356842 196.54776000976562 259.472...  test/0004.jpg"
      ]
     },
     "execution_count": 92,
     "metadata": {},
     "output_type": "execute_result"
    }
   ],
   "source": [
    "submission = pd.DataFrame()\n",
    "submission['PredictionString'] = prediction_strings\n",
    "submission['image_id'] = file_names\n",
    "submission.head()"
   ]
  },
  {
   "cell_type": "code",
   "execution_count": 95,
   "metadata": {},
   "outputs": [],
   "source": [
    "submission.to_csv(output_csv_path, index=None)"
   ]
  }
 ],
 "metadata": {
  "kernelspec": {
   "display_name": "Python 3.7.15 ('detection')",
   "language": "python",
   "name": "python3"
  },
  "language_info": {
   "codemirror_mode": {
    "name": "ipython",
    "version": 3
   },
   "file_extension": ".py",
   "mimetype": "text/x-python",
   "name": "python",
   "nbconvert_exporter": "python",
   "pygments_lexer": "ipython3",
   "version": "3.7.15"
  },
  "orig_nbformat": 4,
  "vscode": {
   "interpreter": {
    "hash": "b94c6de4bce9a87a354a5fa9998691adc0532adddb9d4140f5ba941d00b01fae"
   }
  }
 },
 "nbformat": 4,
 "nbformat_minor": 2
}
